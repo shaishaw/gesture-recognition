{
  "nbformat": 4,
  "nbformat_minor": 0,
  "metadata": {
    "kernelspec": {
      "display_name": "Python 3",
      "language": "python",
      "name": "python3"
    },
    "language_info": {
      "codemirror_mode": {
        "name": "ipython",
        "version": 3
      },
      "file_extension": ".py",
      "mimetype": "text/x-python",
      "name": "python",
      "nbconvert_exporter": "python",
      "pygments_lexer": "ipython3",
      "version": "3.6.5"
    },
    "colab": {
      "name": "Neural_Nets_Project_Starter_Code_gesture_recognition.ipynb",
      "provenance": [],
      "collapsed_sections": [],
      "toc_visible": true
    },
    "accelerator": "GPU"
  },
  "cells": [
    {
      "cell_type": "markdown",
      "metadata": {
        "id": "lQdaE7G5j_dm"
      },
      "source": [
        "# Gesture Recognition\n",
        "In this group project, you are going to build a 3D Conv model that will be able to predict the 5 gestures correctly. Please import the following libraries to get started.\n",
        "\n",
        "Platform used for this case study: Google Colab pro"
      ]
    },
    {
      "cell_type": "code",
      "metadata": {
        "colab": {
          "base_uri": "https://localhost:8080/"
        },
        "id": "y3FexUum57in",
        "outputId": "ccd98be3-2df3-4d45-b3ca-871fb04d2054"
      },
      "source": [
        "#Dependent packages\n",
        "!pip install Pillow\n",
        "!pip install scipy==1.1.0\n"
      ],
      "execution_count": 2,
      "outputs": [
        {
          "output_type": "stream",
          "text": [
            "Requirement already satisfied: Pillow in /usr/local/lib/python3.7/dist-packages (7.1.2)\n",
            "Collecting scipy==1.1.0\n",
            "\u001b[?25l  Downloading https://files.pythonhosted.org/packages/40/de/0c22c6754370ba6b1fa8e53bd6e514d4a41a181125d405a501c215cbdbd6/scipy-1.1.0-cp37-cp37m-manylinux1_x86_64.whl (31.2MB)\n",
            "\u001b[K     |████████████████████████████████| 31.2MB 87kB/s \n",
            "\u001b[?25hRequirement already satisfied: numpy>=1.8.2 in /usr/local/lib/python3.7/dist-packages (from scipy==1.1.0) (1.19.5)\n",
            "\u001b[31mERROR: pymc3 3.11.2 has requirement scipy>=1.2.0, but you'll have scipy 1.1.0 which is incompatible.\u001b[0m\n",
            "\u001b[31mERROR: plotnine 0.6.0 has requirement scipy>=1.2.0, but you'll have scipy 1.1.0 which is incompatible.\u001b[0m\n",
            "\u001b[31mERROR: albumentations 0.1.12 has requirement imgaug<0.2.7,>=0.2.5, but you'll have imgaug 0.2.9 which is incompatible.\u001b[0m\n",
            "Installing collected packages: scipy\n",
            "  Found existing installation: scipy 1.4.1\n",
            "    Uninstalling scipy-1.4.1:\n",
            "      Successfully uninstalled scipy-1.4.1\n",
            "Successfully installed scipy-1.1.0\n"
          ],
          "name": "stdout"
        }
      ]
    },
    {
      "cell_type": "code",
      "metadata": {
        "id": "PV-fSzNyj_dp"
      },
      "source": [
        "import numpy as np\n",
        "import os\n",
        "from scipy.misc import imread, imresize\n",
        "import datetime\n",
        "import os\n",
        "import matplotlib.pyplot as plt\n",
        "import imgaug as ia\n",
        "from imgaug import augmenters as iaa\n"
      ],
      "execution_count": 3,
      "outputs": []
    },
    {
      "cell_type": "markdown",
      "metadata": {
        "id": "CpLgv1Ttj_dp"
      },
      "source": [
        "We set the random seed so that the results don't vary drastically."
      ]
    },
    {
      "cell_type": "code",
      "metadata": {
        "id": "Jwjzy-l-j_dq"
      },
      "source": [
        "np.random.seed(30)\n",
        "import random as rn\n",
        "rn.seed(30)\n",
        "from keras import backend as K\n",
        "import tensorflow as tf\n",
        "#tf.set_random_seed(30)\n",
        "tf.random.set_seed(30)"
      ],
      "execution_count": 4,
      "outputs": []
    },
    {
      "cell_type": "code",
      "metadata": {
        "id": "Fcj6nxOgyfM3"
      },
      "source": [
        ""
      ],
      "execution_count": null,
      "outputs": []
    },
    {
      "cell_type": "code",
      "metadata": {
        "colab": {
          "base_uri": "https://localhost:8080/"
        },
        "id": "kEOAu5GL5Wn3",
        "outputId": "5840fb0f-ba5e-4468-d4a3-8822aa3dcb0b"
      },
      "source": [
        "# Lets the check the optimum GPU\n",
        "#!nvidia-smi"
      ],
      "execution_count": null,
      "outputs": [
        {
          "output_type": "stream",
          "text": [
            "Mon May 31 16:38:12 2021       \n",
            "+-----------------------------------------------------------------------------+\n",
            "| NVIDIA-SMI 465.19.01    Driver Version: 460.32.03    CUDA Version: 11.2     |\n",
            "|-------------------------------+----------------------+----------------------+\n",
            "| GPU  Name        Persistence-M| Bus-Id        Disp.A | Volatile Uncorr. ECC |\n",
            "| Fan  Temp  Perf  Pwr:Usage/Cap|         Memory-Usage | GPU-Util  Compute M. |\n",
            "|                               |                      |               MIG M. |\n",
            "|===============================+======================+======================|\n",
            "|   0  Tesla T4            Off  | 00000000:00:04.0 Off |                    0 |\n",
            "| N/A   50C    P0    28W /  70W |  14570MiB / 15109MiB |      0%      Default |\n",
            "|                               |                      |                  N/A |\n",
            "+-------------------------------+----------------------+----------------------+\n",
            "                                                                               \n",
            "+-----------------------------------------------------------------------------+\n",
            "| Processes:                                                                  |\n",
            "|  GPU   GI   CI        PID   Type   Process name                  GPU Memory |\n",
            "|        ID   ID                                                   Usage      |\n",
            "|=============================================================================|\n",
            "+-----------------------------------------------------------------------------+\n"
          ],
          "name": "stdout"
        }
      ]
    },
    {
      "cell_type": "markdown",
      "metadata": {
        "id": "GjqTs9MCj_dq"
      },
      "source": [
        "In this block, you read the folder names for training and validation. You also set the `batch_size` here. Note that you set the batch size in such a way that you are able to use the GPU in full capacity. You keep increasing the batch size until the machine throws an error."
      ]
    },
    {
      "cell_type": "code",
      "metadata": {
        "id": "fulPRZz1j_dr"
      },
      "source": [
        "train_doc = np.random.permutation(open('/content/drive/MyDrive/cnn-dataset/project_data/Project_data/train.csv').readlines())\n",
        "val_doc = np.random.permutation(open('/content/drive/MyDrive/cnn-dataset/project_data/Project_data/val.csv').readlines())\n",
        "train_path = '/content/drive/MyDrive/cnn-dataset/project_data/Project_data/train'\n",
        "val_path = '/content/drive/MyDrive/cnn-dataset/project_data/Project_data/val'\n",
        "\n",
        "#batch_size = #experiment with the batch size"
      ],
      "execution_count": 5,
      "outputs": []
    },
    {
      "cell_type": "markdown",
      "metadata": {
        "id": "NWmjcW7xj_dr"
      },
      "source": [
        "## Generator\n",
        "This is one of the most important part of the code. The overall structure of the generator has been given. In the generator, you are going to preprocess the images as you have images of 2 different dimensions as well as create a batch of video frames. You have to experiment with `img_idx`, `y`,`z` and normalization such that you get high accuracy."
      ]
    },
    {
      "cell_type": "code",
      "metadata": {
        "id": "9KWIJmGfxJJN"
      },
      "source": [
        "def generator(source_path, folder_list, batch_size, img_height=120, img_width=120):\n",
        "    print( 'Source path = ', source_path, '; batch size =', batch_size)\n",
        "    img_idx = np.round(np.linspace(0,29,20)).astype(int) #create a list of image numbers you want to use for a particular video\n",
        "    while True:\n",
        "        t = np.random.permutation(folder_list)\n",
        "        num_batches = len(t)//batch_size # calculate the number of batches\n",
        "        for batch in range(num_batches): # we iterate over the number of batches\n",
        "            batch_data = np.zeros((batch_size,len(img_idx),img_height,img_width,3)) # x is the number of images you use for each video, (y,z) is the final size of the input images and 3 is the number of channels RGB\n",
        "            batch_labels = np.zeros((batch_size,5)) # batch_labels is the one hot representation of the output\n",
        "            for folder in range(batch_size): # iterate over the batch_size\n",
        "                imgs = os.listdir(source_path+'/'+ t[folder + (batch*batch_size)].split(';')[0]) # read all the images in the folder\n",
        "                for idx,item in enumerate(img_idx): #  Iterate iver the frames/images of a folder to read them in\n",
        "                    image = imread(source_path+'/'+ t[folder + (batch*batch_size)].strip().split(';')[0]+'/'+imgs[item]).astype(np.float32)\n",
        "                    img_scale = imresize(image, (img_height,image_width,3))\n",
        "                    #crop the images and resize them. Note that the images are of 2 different shape \n",
        "                    #and the conv3D will throw error if the inputs in a batch have different shapes\n",
        "                    \n",
        "                    #ia.seed(4)\n",
        "                    #crop = iaa.Crop(percent=(0, 0.2))\n",
        "                    #image_aug = crop(image=image)\n",
        "                    #img_scale = imresize(image, (img_height,image_width,3))\n",
        "                    batch_data[folder,idx,:,:,0] = (img_scale[:,:,0])/255 #normalise and feed in the image\n",
        "                    batch_data[folder,idx,:,:,1] = (img_scale[:,:,0])/255 #normalise and feed in the image\n",
        "                    batch_data[folder,idx,:,:,2] = (img_scale[:,:,0])/255 #normalise and feed in the image\n",
        "                    \n",
        "                batch_labels[folder, int(t[folder + (batch*batch_size)].strip().split(';')[2])] = 1\n",
        "            yield batch_data, batch_labels #you yield the batch_data and the batch_labels, remember what does yield do\n",
        "        remain_data_point = len(t)%batch_size\n",
        "        if (remain_data_point !=0):\n",
        "          for batch in range(remain_data_point): # we iterate over the number of batches\n",
        "            batch_data = np.zeros((remain_data_point,len(img_idx),img_height,img_width,3)) # x is the number of images you use for each video, (y,z) is the final size of the input images and 3 is the number of channels RGB\n",
        "            batch_labels = np.zeros((remain_data_point,5)) # batch_labels is the one hot representation of the output\n",
        "            for folder in range(remain_data_point): # iterate over the batch_size\n",
        "                imgs = os.listdir(source_path+'/'+ t[folder + (batch*remain_data_point)].split(';')[0]) # read all the images in the folder\n",
        "                for idx,item in enumerate(img_idx): #  Iterate iver the frames/images of a folder to read them in\n",
        "                  image = imread(source_path+'/'+ t[folder + (batch*remain_data_point)].strip().split(';')[0]+'/'+imgs[item]).astype(np.float32)\n",
        "                  #img_scale = imresize(image, (img_height,image_width,3))\n",
        "                  #crop the images and resize them. Note that the images are of 2 different shape \n",
        "                  #and the conv3D will throw error if the inputs in a batch have different shapes\n",
        "                    \n",
        "                  #ia.seed(4)\n",
        "                  #crop = iaa.Crop(percent=(0, 0.2))\n",
        "                  #image_aug = crop(image=image)\n",
        "                  img_scale = imresize(image, (img_height,image_width,3))\n",
        "                  batch_data[folder,idx,:,:,0] = (img_scale[:,:,0])/255 #normalise and feed in the image\n",
        "                  batch_data[folder,idx,:,:,1] = (img_scale[:,:,0])/255 #normalise and feed in the image\n",
        "                  batch_data[folder,idx,:,:,2] = (img_scale[:,:,0])/255 #normalise and feed in the image\n",
        "                                    \n",
        "                batch_labels[folder, int(t[folder + (batch*remain_data_point)].strip().split(';')[2])] = 1\n",
        "            yield batch_data, batch_labels #you yield the batch_data and the batch_labels, remember what does yield do\n",
        "\n"
      ],
      "execution_count": 7,
      "outputs": []
    },
    {
      "cell_type": "code",
      "metadata": {
        "id": "yhONqguw2Oj4"
      },
      "source": [
        "def module_training(model, train_path, train_doc, val_path, val_doc, num_epochs, batch_size=30 ):\n",
        "  train_generator = generator(train_path, train_doc,batch_size)\n",
        "  val_generator = generator(val_path, val_doc,batch_size)\n",
        "  model_name = 'model_init' + '_' + str(curr_dt_time).replace(' ','').replace(':','_') + '/'\n",
        "    \n",
        "  if not os.path.exists(model_name):\n",
        "    os.mkdir(model_name)\n",
        "        \n",
        "  filepath = model_name + 'model-{epoch:05d}-{loss:.5f}-{categorical_accuracy:.5f}-{val_loss:.5f}-{val_categorical_accuracy:.5f}.h5'\n",
        "\n",
        "  checkpoint = ModelCheckpoint(filepath, monitor='val_loss', verbose=1, save_best_only=False, save_weights_only=False, mode='auto', period=1)\n",
        "\n",
        "  #LR = # write the REducelronplateau code here\n",
        "  LR = ReduceLROnPlateau(monitor='val_loss', factor=0.2, verbose=1, patience=4)\n",
        "  earlystop = EarlyStopping( monitor=\"val_loss\", min_delta=0,patience=10,verbose=1)\n",
        "\n",
        "  callbacks_list = [checkpoint, LR]\n",
        "\n",
        "  if (num_train_sequences%batch_size) == 0:\n",
        "    steps_per_epoch = int(num_train_sequences/batch_size)\n",
        "  else:\n",
        "    steps_per_epoch = (num_train_sequences//batch_size) + 1\n",
        "\n",
        "  if (num_val_sequences%batch_size) == 0:\n",
        "    validation_steps = int(num_val_sequences/batch_size)\n",
        "  else:\n",
        "    validation_steps = (num_val_sequences//batch_size) + 1\n",
        "\n",
        "  history=model.fit_generator(train_generator, steps_per_epoch=steps_per_epoch, epochs=num_epochs, verbose=1, \n",
        "                    callbacks=callbacks_list, validation_data=val_generator, \n",
        "                    validation_steps=validation_steps, class_weight=None, workers=1, initial_epoch=0)\n",
        "  return history"
      ],
      "execution_count": 8,
      "outputs": []
    },
    {
      "cell_type": "code",
      "metadata": {
        "colab": {
          "base_uri": "https://localhost:8080/"
        },
        "id": "NMpS7TelEQPf",
        "outputId": "54ce3b83-a3a8-42e0-9dbc-80c3c73b8878"
      },
      "source": [
        "from google.colab import drive\n",
        "drive.mount('/content/drive')"
      ],
      "execution_count": 1,
      "outputs": [
        {
          "output_type": "stream",
          "text": [
            "Mounted at /content/drive\n"
          ],
          "name": "stdout"
        }
      ]
    },
    {
      "cell_type": "markdown",
      "metadata": {
        "id": "NieG6aC9j_ds"
      },
      "source": [
        "Note here that a video is represented above in the generator as (number of images, height, width, number of channels). Take this into consideration while creating the model architecture."
      ]
    },
    {
      "cell_type": "code",
      "metadata": {
        "colab": {
          "base_uri": "https://localhost:8080/"
        },
        "id": "g64x9k6gj_ds",
        "outputId": "2e2a47cb-3627-4f04-8d8d-6b66545ede3e"
      },
      "source": [
        "curr_dt_time = datetime.datetime.now()\n",
        "num_train_sequences = len(train_doc)\n",
        "print('# training sequences =', num_train_sequences)\n",
        "num_val_sequences = len(val_doc)\n",
        "print('# validation sequences =', num_val_sequences)\n",
        "num_epochs = 20 # choose the number of epochs\n",
        "print ('# epochs =', num_epochs)\n",
        "frames = 30"
      ],
      "execution_count": 9,
      "outputs": [
        {
          "output_type": "stream",
          "text": [
            "# training sequences = 663\n",
            "# validation sequences = 100\n",
            "# epochs = 20\n"
          ],
          "name": "stdout"
        }
      ]
    },
    {
      "cell_type": "code",
      "metadata": {
        "id": "1JtrrBA_7QES"
      },
      "source": [
        ""
      ],
      "execution_count": null,
      "outputs": []
    },
    {
      "cell_type": "code",
      "metadata": {
        "id": "WunvqUfH7WoC"
      },
      "source": [
        "# Data visualisation with Plots, define a function to plot.\n",
        "\n",
        "def data_plot(history):\n",
        "    fig, axes = plt.subplots(nrows=1, ncols=2, figsize=(15,4))\n",
        "    axes[0].plot(history.history['loss'])   \n",
        "    axes[0].plot(history.history['val_loss'])\n",
        "    axes[0].legend(['loss','val_loss'])\n",
        "\n",
        "    axes[1].plot(history.history['categorical_accuracy'])   \n",
        "    axes[1].plot(history.history['val_categorical_accuracy'])\n",
        "    axes[1].legend(['categorical_accuracy','val_categorical_accuracy'])\n"
      ],
      "execution_count": 10,
      "outputs": []
    },
    {
      "cell_type": "markdown",
      "metadata": {
        "id": "qb1E5I1nj_dt"
      },
      "source": [
        "## Model\n",
        "Here you make the model using different functionalities that Keras provides. Remember to use `Conv3D` and `MaxPooling3D` and not `Conv2D` and `Maxpooling2D` for a 3D convolution model. You would want to use `TimeDistributed` while building a Conv2D + RNN model. Also remember that the last layer is the softmax. Design the network in such a way that the model is able to give good accuracy on the least number of parameters so that it can fit in the memory of the webcam."
      ]
    },
    {
      "cell_type": "markdown",
      "metadata": {
        "id": "0U7gH16fEOHS"
      },
      "source": [
        "**Model: Conv3D and MaxPooling3D**"
      ]
    },
    {
      "cell_type": "code",
      "metadata": {
        "id": "94IMTMlHj_dt"
      },
      "source": [
        "from keras.models import Sequential, Model\n",
        "from keras.layers import Dense, GRU, Flatten, TimeDistributed, Flatten, BatchNormalization, Activation, Dropout, LSTM, Bidirectional, SimpleRNN, RNN\n",
        "from keras.layers.convolutional import Conv3D,Conv2D, MaxPooling3D, MaxPooling2D\n",
        "from keras.callbacks import ModelCheckpoint, ReduceLROnPlateau, EarlyStopping\n",
        "from keras import optimizers\n",
        "#write your model here"
      ],
      "execution_count": 11,
      "outputs": []
    },
    {
      "cell_type": "code",
      "metadata": {
        "id": "mvaqhaPN_I9E"
      },
      "source": [
        "# Define base model\n",
        "image_height=160\n",
        "image_width=160\n",
        "\n",
        "model = Sequential()\n",
        "model.add(Conv3D(16, (3, 3, 3), padding='same',\n",
        "                 input_shape=(frames,image_height,image_width,3)))\n",
        "model.add(Activation('relu'))\n",
        "model.add(BatchNormalization())\n",
        "model.add(MaxPooling3D(pool_size=(2, 2, 2)))\n",
        "\n",
        "model.add(Conv3D(32, (2, 2, 2), padding='same'))\n",
        "model.add(Activation('relu'))\n",
        "model.add(BatchNormalization())\n",
        "model.add(MaxPooling3D(pool_size=(2, 2, 2)))\n",
        "\n",
        "model.add(Conv3D(64, (2, 2, 2), padding='same'))\n",
        "model.add(Activation('relu'))\n",
        "model.add(BatchNormalization())\n",
        "model.add(MaxPooling3D(pool_size=(2, 2, 2)))\n",
        "\n",
        "model.add(Flatten())\n",
        "model.add(Dense(128,activation='relu'))\n",
        "model.add(BatchNormalization())\n",
        "model.add(Dropout(0.4))\n",
        "model.add(Dense(5,activation='softmax'))\n",
        "        "
      ],
      "execution_count": null,
      "outputs": []
    },
    {
      "cell_type": "markdown",
      "metadata": {
        "id": "RGzv7KSEj_du"
      },
      "source": [
        "Now that you have written the model, the next step is to `compile` the model. When you print the `summary` of the model, you'll see the total number of parameters you have to train."
      ]
    },
    {
      "cell_type": "code",
      "metadata": {
        "scrolled": true,
        "colab": {
          "base_uri": "https://localhost:8080/"
        },
        "id": "x-8Umh5Tj_du",
        "outputId": "7c8c2311-6812-42cd-a0df-fcddbea92608"
      },
      "source": [
        "optimiser = optimizers.Adam() #write your optimizer\n",
        "model.compile(optimizer=optimiser, loss='categorical_crossentropy', metrics=['categorical_accuracy'])\n",
        "print (model.summary())"
      ],
      "execution_count": null,
      "outputs": [
        {
          "output_type": "stream",
          "text": [
            "Model: \"sequential\"\n",
            "_________________________________________________________________\n",
            "Layer (type)                 Output Shape              Param #   \n",
            "=================================================================\n",
            "conv3d (Conv3D)              (None, 30, 160, 160, 16)  1312      \n",
            "_________________________________________________________________\n",
            "activation (Activation)      (None, 30, 160, 160, 16)  0         \n",
            "_________________________________________________________________\n",
            "batch_normalization (BatchNo (None, 30, 160, 160, 16)  64        \n",
            "_________________________________________________________________\n",
            "max_pooling3d (MaxPooling3D) (None, 15, 80, 80, 16)    0         \n",
            "_________________________________________________________________\n",
            "conv3d_1 (Conv3D)            (None, 15, 80, 80, 32)    4128      \n",
            "_________________________________________________________________\n",
            "activation_1 (Activation)    (None, 15, 80, 80, 32)    0         \n",
            "_________________________________________________________________\n",
            "batch_normalization_1 (Batch (None, 15, 80, 80, 32)    128       \n",
            "_________________________________________________________________\n",
            "max_pooling3d_1 (MaxPooling3 (None, 7, 40, 40, 32)     0         \n",
            "_________________________________________________________________\n",
            "conv3d_2 (Conv3D)            (None, 7, 40, 40, 64)     16448     \n",
            "_________________________________________________________________\n",
            "activation_2 (Activation)    (None, 7, 40, 40, 64)     0         \n",
            "_________________________________________________________________\n",
            "batch_normalization_2 (Batch (None, 7, 40, 40, 64)     256       \n",
            "_________________________________________________________________\n",
            "max_pooling3d_2 (MaxPooling3 (None, 3, 20, 20, 64)     0         \n",
            "_________________________________________________________________\n",
            "conv3d_3 (Conv3D)            (None, 3, 20, 20, 128)    65664     \n",
            "_________________________________________________________________\n",
            "activation_3 (Activation)    (None, 3, 20, 20, 128)    0         \n",
            "_________________________________________________________________\n",
            "batch_normalization_3 (Batch (None, 3, 20, 20, 128)    512       \n",
            "_________________________________________________________________\n",
            "max_pooling3d_3 (MaxPooling3 (None, 1, 10, 10, 128)    0         \n",
            "_________________________________________________________________\n",
            "flatten (Flatten)            (None, 12800)             0         \n",
            "_________________________________________________________________\n",
            "dense (Dense)                (None, 128)               1638528   \n",
            "_________________________________________________________________\n",
            "batch_normalization_4 (Batch (None, 128)               512       \n",
            "_________________________________________________________________\n",
            "dropout (Dropout)            (None, 128)               0         \n",
            "_________________________________________________________________\n",
            "dense_1 (Dense)              (None, 5)                 645       \n",
            "=================================================================\n",
            "Total params: 1,728,197\n",
            "Trainable params: 1,727,461\n",
            "Non-trainable params: 736\n",
            "_________________________________________________________________\n",
            "None\n"
          ],
          "name": "stdout"
        }
      ]
    },
    {
      "cell_type": "code",
      "metadata": {
        "colab": {
          "base_uri": "https://localhost:8080/"
        },
        "id": "d3mmH_43i1U_",
        "outputId": "ee66b6cc-6f2e-45f9-dd4e-cb9e562fe75a"
      },
      "source": [
        "#Let's check the number of parameter\n",
        "print(\"Number of parameters:\", model.count_params())\n"
      ],
      "execution_count": null,
      "outputs": [
        {
          "output_type": "stream",
          "text": [
            "Number of parameters: 1728197\n"
          ],
          "name": "stdout"
        }
      ]
    },
    {
      "cell_type": "code",
      "metadata": {
        "colab": {
          "base_uri": "https://localhost:8080/"
        },
        "id": "_u7yKFZujLfJ",
        "outputId": "b5b2a28a-9ab6-4d9d-a5ad-eefe61b3467c"
      },
      "source": [
        "#num_epochs=15\n",
        "#history = module_training(model, train_path, train_doc, val_path, val_doc, num_epochs )\n"
      ],
      "execution_count": null,
      "outputs": [
        {
          "output_type": "stream",
          "text": [
            "WARNING:tensorflow:`period` argument is deprecated. Please use `save_freq` to specify the frequency in number of batches seen.\n",
            "Source path =  /content/drive/MyDrive/cnn-dataset/project_data/Project_data/train ; batch size = 30\n"
          ],
          "name": "stdout"
        },
        {
          "output_type": "stream",
          "text": [
            "/usr/local/lib/python3.7/dist-packages/keras/engine/training.py:1915: UserWarning: `Model.fit_generator` is deprecated and will be removed in a future version. Please use `Model.fit`, which supports generators.\n",
            "  warnings.warn('`Model.fit_generator` is deprecated and '\n",
            "/usr/local/lib/python3.7/dist-packages/ipykernel_launcher.py:19: DeprecationWarning:     `imread` is deprecated!\n",
            "    `imread` is deprecated in SciPy 1.0.0, and will be removed in 1.2.0.\n",
            "    Use ``imageio.imread`` instead.\n",
            "/usr/local/lib/python3.7/dist-packages/ipykernel_launcher.py:20: DeprecationWarning:     `imresize` is deprecated!\n",
            "    `imresize` is deprecated in SciPy 1.0.0, and will be removed in 1.2.0.\n",
            "    Use ``skimage.transform.resize`` instead.\n"
          ],
          "name": "stderr"
        },
        {
          "output_type": "stream",
          "text": [
            "Epoch 1/15\n",
            "23/23 [==============================] - ETA: 0s - loss: 0.6934 - categorical_accuracy: 0.0746 Source path =  /content/drive/MyDrive/cnn-dataset/project_data/Project_data/val ; batch size = 30\n",
            "23/23 [==============================] - 945s 41s/step - loss: 0.6870 - categorical_accuracy: 0.0756 - val_loss: 0.5486 - val_categorical_accuracy: 0.0500\n",
            "\n",
            "Epoch 00001: saving model to model_init_2021-05-3113_20_00.931938/model-00001-0.54056-0.09710-0.54858-0.05000.h5\n",
            "Epoch 2/15\n",
            "23/23 [==============================] - 670s 30s/step - loss: 0.3337 - categorical_accuracy: 0.0807 - val_loss: 0.6091 - val_categorical_accuracy: 0.0583\n",
            "\n",
            "Epoch 00002: saving model to model_init_2021-05-3113_20_00.931938/model-00002-0.32132-0.10290-0.60914-0.05833.h5\n",
            "Epoch 3/15\n",
            "23/23 [==============================] - 543s 25s/step - loss: 0.3086 - categorical_accuracy: 0.1893 - val_loss: 0.7560 - val_categorical_accuracy: 0.0417\n",
            "\n",
            "Epoch 00003: saving model to model_init_2021-05-3113_20_00.931938/model-00003-0.32526-0.21449-0.75599-0.04167.h5\n",
            "Epoch 4/15\n",
            "23/23 [==============================] - 473s 21s/step - loss: 0.3120 - categorical_accuracy: 0.2787 - val_loss: 0.8749 - val_categorical_accuracy: 0.0417\n",
            "\n",
            "Epoch 00004: saving model to model_init_2021-05-3113_20_00.931938/model-00004-0.33628-0.25362-0.87486-0.04167.h5\n",
            "Epoch 5/15\n",
            "23/23 [==============================] - 347s 16s/step - loss: 0.2727 - categorical_accuracy: 0.1693 - val_loss: 0.8175 - val_categorical_accuracy: 0.0917\n",
            "\n",
            "Epoch 00005: saving model to model_init_2021-05-3113_20_00.931938/model-00005-0.28523-0.15507-0.81753-0.09167.h5\n",
            "\n",
            "Epoch 00005: ReduceLROnPlateau reducing learning rate to 0.00020000000949949026.\n",
            "Epoch 6/15\n",
            "23/23 [==============================] - 342s 15s/step - loss: 0.2085 - categorical_accuracy: 0.1277 - val_loss: 1.1371 - val_categorical_accuracy: 0.0500\n",
            "\n",
            "Epoch 00006: saving model to model_init_2021-05-3113_20_00.931938/model-00006-0.23579-0.13043-1.13711-0.05000.h5\n",
            "Epoch 7/15\n",
            "23/23 [==============================] - 313s 14s/step - loss: 0.2149 - categorical_accuracy: 0.1182 - val_loss: 1.0104 - val_categorical_accuracy: 0.0833\n",
            "\n",
            "Epoch 00007: saving model to model_init_2021-05-3113_20_00.931938/model-00007-0.22254-0.14928-1.01040-0.08333.h5\n",
            "Epoch 8/15\n",
            "23/23 [==============================] - 249s 11s/step - loss: 0.2517 - categorical_accuracy: 0.1681 - val_loss: 1.1068 - val_categorical_accuracy: 0.1000\n",
            "\n",
            "Epoch 00008: saving model to model_init_2021-05-3113_20_00.931938/model-00008-0.26902-0.16377-1.10681-0.10000.h5\n",
            "Epoch 9/15\n",
            "23/23 [==============================] - 243s 11s/step - loss: 0.2771 - categorical_accuracy: 0.1357 - val_loss: 1.2392 - val_categorical_accuracy: 0.0750\n",
            "\n",
            "Epoch 00009: saving model to model_init_2021-05-3113_20_00.931938/model-00009-0.29995-0.14203-1.23917-0.07500.h5\n",
            "\n",
            "Epoch 00009: ReduceLROnPlateau reducing learning rate to 4.0000001899898055e-05.\n",
            "Epoch 10/15\n",
            "23/23 [==============================] - 180s 8s/step - loss: 0.2359 - categorical_accuracy: 0.1475 - val_loss: 1.4293 - val_categorical_accuracy: 0.0333\n",
            "\n",
            "Epoch 00010: saving model to model_init_2021-05-3113_20_00.931938/model-00010-0.27659-0.16232-1.42935-0.03333.h5\n",
            "Epoch 11/15\n",
            "23/23 [==============================] - 230s 10s/step - loss: 0.3864 - categorical_accuracy: 0.1564 - val_loss: 1.5699 - val_categorical_accuracy: 0.0833\n",
            "\n",
            "Epoch 00011: saving model to model_init_2021-05-3113_20_00.931938/model-00011-0.37467-0.16232-1.56986-0.08333.h5\n",
            "Epoch 00011: early stopping\n"
          ],
          "name": "stdout"
        }
      ]
    },
    {
      "cell_type": "markdown",
      "metadata": {
        "id": "bok6JtQ3j_du"
      },
      "source": [
        "Let us create the `train_generator` and the `val_generator` which will be used in `.fit_generator`."
      ]
    },
    {
      "cell_type": "markdown",
      "metadata": {
        "id": "t5FcBQB9j_dv"
      },
      "source": [
        "Let us now fit the model. This will start training the model and with the help of the checkpoints, you'll be able to save the model at the end of each epoch."
      ]
    },
    {
      "cell_type": "code",
      "metadata": {
        "colab": {
          "base_uri": "https://localhost:8080/",
          "height": 207
        },
        "id": "T3frvFCJj_dw",
        "outputId": "98909994-3e29-4913-de54-3a2c83833394"
      },
      "source": [
        "#data_plot(history)\n"
      ],
      "execution_count": null,
      "outputs": [
        {
          "output_type": "display_data",
          "data": {
            "image/png": "[encoded data removed]",
            "text/plain": [
              "<Figure size 1080x288 with 2 Axes>"
            ]
          },
          "metadata": {
            "tags": [],
            "needs_background": "light"
          }
        }
      ]
    },
    {
      "cell_type": "markdown",
      "metadata": {
        "id": "jRlLKom1-zye"
      },
      "source": [
        "**Model- CNN-LSTM**"
      ]
    },
    {
      "cell_type": "code",
      "metadata": {
        "id": "AtqznZ9eQNe-"
      },
      "source": [
        "# CNN-LSTM Model\n",
        "image_height=160\n",
        "image_width=160\n",
        "cnn_lstm = Sequential()\n",
        "cnn_lstm.add(TimeDistributed(Conv2D(16, (3, 3) , padding='same', activation='relu'),\n",
        "                                  input_shape=(None,image_height,image_width,3)))\n",
        "cnn_lstm.add(TimeDistributed(BatchNormalization()))\n",
        "cnn_lstm.add(TimeDistributed(MaxPooling2D((2, 2))))\n",
        "        \n",
        "cnn_lstm.add(TimeDistributed(Conv2D(32, (3, 3) , padding='same', activation='relu')))\n",
        "cnn_lstm.add(TimeDistributed(BatchNormalization()))\n",
        "cnn_lstm.add(TimeDistributed(MaxPooling2D((2, 2))))\n",
        "        \n",
        "cnn_lstm.add(TimeDistributed(Conv2D(64, (3, 3) , padding='same', activation='relu')))\n",
        "cnn_lstm.add(TimeDistributed(BatchNormalization()))\n",
        "cnn_lstm.add(TimeDistributed(MaxPooling2D((2, 2))))\n",
        "        \n",
        "cnn_lstm.add(TimeDistributed(Conv2D(128, (3, 3) , padding='same', activation='relu')))\n",
        "cnn_lstm.add(TimeDistributed(BatchNormalization()))\n",
        "cnn_lstm.add(TimeDistributed(MaxPooling2D((2, 2))))\n",
        "\n",
        "cnn_lstm.add(TimeDistributed(Conv2D(256, (3, 3) , padding='same', activation='relu')))\n",
        "cnn_lstm.add(TimeDistributed(BatchNormalization()))\n",
        "cnn_lstm.add(TimeDistributed(MaxPooling2D((2, 2))))\n",
        "\n",
        "cnn_lstm.add(TimeDistributed(Flatten()))\n",
        "cnn_lstm.add(LSTM(128))\n",
        "cnn_lstm.add(Dropout(0.25))\n",
        "        \n",
        "cnn_lstm.add(Dense(128,activation='relu'))\n",
        "cnn_lstm.add(Dropout(0.25))\n",
        "        \n",
        "cnn_lstm.add(Dense(5, activation='softmax'))\n"
      ],
      "execution_count": null,
      "outputs": []
    },
    {
      "cell_type": "code",
      "metadata": {
        "colab": {
          "base_uri": "https://localhost:8080/"
        },
        "id": "YBy9oVSTUqtS",
        "outputId": "f976f1e2-eabb-42eb-ce85-2d9c6154535b"
      },
      "source": [
        "cnn_lstm.compile(optimizer=optimizers.Adam(), loss='categorical_crossentropy', metrics=['categorical_accuracy'])\n",
        "\n",
        "cnn_lstm.summary()"
      ],
      "execution_count": null,
      "outputs": [
        {
          "output_type": "stream",
          "text": [
            "Model: \"sequential\"\n",
            "_________________________________________________________________\n",
            "Layer (type)                 Output Shape              Param #   \n",
            "=================================================================\n",
            "time_distributed (TimeDistri (None, None, 160, 160, 16 448       \n",
            "_________________________________________________________________\n",
            "time_distributed_1 (TimeDist (None, None, 160, 160, 16 64        \n",
            "_________________________________________________________________\n",
            "time_distributed_2 (TimeDist (None, None, 80, 80, 16)  0         \n",
            "_________________________________________________________________\n",
            "time_distributed_3 (TimeDist (None, None, 80, 80, 32)  4640      \n",
            "_________________________________________________________________\n",
            "time_distributed_4 (TimeDist (None, None, 80, 80, 32)  128       \n",
            "_________________________________________________________________\n",
            "time_distributed_5 (TimeDist (None, None, 40, 40, 32)  0         \n",
            "_________________________________________________________________\n",
            "time_distributed_6 (TimeDist (None, None, 40, 40, 64)  18496     \n",
            "_________________________________________________________________\n",
            "time_distributed_7 (TimeDist (None, None, 40, 40, 64)  256       \n",
            "_________________________________________________________________\n",
            "time_distributed_8 (TimeDist (None, None, 20, 20, 64)  0         \n",
            "_________________________________________________________________\n",
            "time_distributed_9 (TimeDist (None, None, 20, 20, 128) 73856     \n",
            "_________________________________________________________________\n",
            "time_distributed_10 (TimeDis (None, None, 20, 20, 128) 512       \n",
            "_________________________________________________________________\n",
            "time_distributed_11 (TimeDis (None, None, 10, 10, 128) 0         \n",
            "_________________________________________________________________\n",
            "time_distributed_12 (TimeDis (None, None, 10, 10, 256) 295168    \n",
            "_________________________________________________________________\n",
            "time_distributed_13 (TimeDis (None, None, 10, 10, 256) 1024      \n",
            "_________________________________________________________________\n",
            "time_distributed_14 (TimeDis (None, None, 5, 5, 256)   0         \n",
            "_________________________________________________________________\n",
            "time_distributed_15 (TimeDis (None, None, 6400)        0         \n",
            "_________________________________________________________________\n",
            "lstm (LSTM)                  (None, 128)               3342848   \n",
            "_________________________________________________________________\n",
            "dropout (Dropout)            (None, 128)               0         \n",
            "_________________________________________________________________\n",
            "dense (Dense)                (None, 128)               16512     \n",
            "_________________________________________________________________\n",
            "dropout_1 (Dropout)          (None, 128)               0         \n",
            "_________________________________________________________________\n",
            "dense_1 (Dense)              (None, 5)                 645       \n",
            "=================================================================\n",
            "Total params: 3,754,597\n",
            "Trainable params: 3,753,605\n",
            "Non-trainable params: 992\n",
            "_________________________________________________________________\n"
          ],
          "name": "stdout"
        }
      ]
    },
    {
      "cell_type": "code",
      "metadata": {
        "colab": {
          "base_uri": "https://localhost:8080/"
        },
        "id": "g0mtonlNUugM",
        "outputId": "72b5b1fd-5ed3-42a1-e988-82682c3937ee"
      },
      "source": [
        "print(\"Total Params:\", cnn_lstm.count_params())\n"
      ],
      "execution_count": null,
      "outputs": [
        {
          "output_type": "stream",
          "text": [
            "Total Params: 3754597\n"
          ],
          "name": "stdout"
        }
      ]
    },
    {
      "cell_type": "code",
      "metadata": {
        "colab": {
          "base_uri": "https://localhost:8080/"
        },
        "id": "ZPDLUE0EJGat",
        "outputId": "2fa15733-9b1a-4dcc-dfa5-a65c5b9922c3"
      },
      "source": [
        "num_epochs=20\n",
        "batch_size=20\n",
        "#module_training(model, train_path, train_doc, val_path, val_doc, num_epochs, frames, image_augment=0 ):\n",
        "#module_training(model, train_path, train_doc, val_path, val_doc, num_epochs, batch_size=20 )\n",
        "\n",
        "history = module_training(cnn_lstm, train_path, train_doc, val_path, val_doc,num_epochs,batch_size )\n"
      ],
      "execution_count": null,
      "outputs": [
        {
          "output_type": "stream",
          "text": [
            "WARNING:tensorflow:`period` argument is deprecated. Please use `save_freq` to specify the frequency in number of batches seen.\n",
            "Source path =  /content/drive/MyDrive/cnn-dataset/project_data/Project_data/train ; batch size = 20\n"
          ],
          "name": "stdout"
        },
        {
          "output_type": "stream",
          "text": [
            "/usr/local/lib/python3.7/dist-packages/keras/engine/training.py:1915: UserWarning: `Model.fit_generator` is deprecated and will be removed in a future version. Please use `Model.fit`, which supports generators.\n",
            "  warnings.warn('`Model.fit_generator` is deprecated and '\n",
            "/usr/local/lib/python3.7/dist-packages/ipykernel_launcher.py:13: DeprecationWarning:     `imread` is deprecated!\n",
            "    `imread` is deprecated in SciPy 1.0.0, and will be removed in 1.2.0.\n",
            "    Use ``imageio.imread`` instead.\n",
            "  del sys.path[0]\n",
            "/usr/local/lib/python3.7/dist-packages/ipykernel_launcher.py:14: DeprecationWarning:     `imresize` is deprecated!\n",
            "    `imresize` is deprecated in SciPy 1.0.0, and will be removed in 1.2.0.\n",
            "    Use ``skimage.transform.resize`` instead.\n",
            "  \n"
          ],
          "name": "stderr"
        },
        {
          "output_type": "stream",
          "text": [
            "Epoch 1/20\n",
            "34/34 [==============================] - ETA: 0s - loss: 1.6028 - categorical_accuracy: 0.3003 Source path =  /content/drive/MyDrive/cnn-dataset/project_data/Project_data/val ; batch size = 20\n",
            "34/34 [==============================] - 1234s 36s/step - loss: 1.5999 - categorical_accuracy: 0.3015 - val_loss: 1.6551 - val_categorical_accuracy: 0.1600\n",
            "\n",
            "Epoch 00001: saving model to model_init_2021-05-3119_23_04.381034/model-00001-1.49935-0.34265-1.65511-0.16000.h5\n",
            "Epoch 2/20\n",
            "34/34 [==============================] - 24s 733ms/step - loss: 1.2828 - categorical_accuracy: 0.4504 - val_loss: 2.1664 - val_categorical_accuracy: 0.1300\n",
            "\n",
            "Epoch 00002: saving model to model_init_2021-05-3119_23_04.381034/model-00002-1.27146-0.45294-2.16644-0.13000.h5\n",
            "Epoch 3/20\n",
            "34/34 [==============================] - 19s 581ms/step - loss: 1.1507 - categorical_accuracy: 0.5210 - val_loss: 2.2451 - val_categorical_accuracy: 0.1600\n",
            "\n",
            "Epoch 00003: saving model to model_init_2021-05-3119_23_04.381034/model-00003-1.14072-0.51618-2.24511-0.16000.h5\n",
            "Epoch 4/20\n",
            "34/34 [==============================] - 19s 587ms/step - loss: 1.0303 - categorical_accuracy: 0.5675 - val_loss: 2.2874 - val_categorical_accuracy: 0.2300\n",
            "\n",
            "Epoch 00004: saving model to model_init_2021-05-3119_23_04.381034/model-00004-1.00362-0.59412-2.28743-0.23000.h5\n",
            "Epoch 5/20\n",
            "34/34 [==============================] - 19s 575ms/step - loss: 0.8502 - categorical_accuracy: 0.6672 - val_loss: 2.5002 - val_categorical_accuracy: 0.2100\n",
            "\n",
            "Epoch 00005: saving model to model_init_2021-05-3119_23_04.381034/model-00005-0.88120-0.65147-2.50015-0.21000.h5\n",
            "\n",
            "Epoch 00005: ReduceLROnPlateau reducing learning rate to 0.00020000000949949026.\n",
            "Epoch 6/20\n",
            "34/34 [==============================] - 20s 597ms/step - loss: 0.8203 - categorical_accuracy: 0.7048 - val_loss: 2.5673 - val_categorical_accuracy: 0.2100\n",
            "\n",
            "Epoch 00006: saving model to model_init_2021-05-3119_23_04.381034/model-00006-0.76912-0.72794-2.56728-0.21000.h5\n",
            "Epoch 7/20\n",
            "34/34 [==============================] - 19s 586ms/step - loss: 0.6408 - categorical_accuracy: 0.7657 - val_loss: 2.4805 - val_categorical_accuracy: 0.2800\n",
            "\n",
            "Epoch 00007: saving model to model_init_2021-05-3119_23_04.381034/model-00007-0.64158-0.77059-2.48051-0.28000.h5\n",
            "Epoch 8/20\n",
            "34/34 [==============================] - 19s 580ms/step - loss: 0.5946 - categorical_accuracy: 0.8080 - val_loss: 2.5473 - val_categorical_accuracy: 0.2400\n",
            "\n",
            "Epoch 00008: saving model to model_init_2021-05-3119_23_04.381034/model-00008-0.54979-0.82353-2.54729-0.24000.h5\n",
            "Epoch 9/20\n",
            "34/34 [==============================] - 19s 586ms/step - loss: 0.5216 - categorical_accuracy: 0.8347 - val_loss: 1.9274 - val_categorical_accuracy: 0.3800\n",
            "\n",
            "Epoch 00009: saving model to model_init_2021-05-3119_23_04.381034/model-00009-0.48707-0.84412-1.92741-0.38000.h5\n",
            "\n",
            "Epoch 00009: ReduceLROnPlateau reducing learning rate to 4.0000001899898055e-05.\n",
            "Epoch 10/20\n",
            "34/34 [==============================] - 19s 575ms/step - loss: 0.4548 - categorical_accuracy: 0.8465 - val_loss: 2.3634 - val_categorical_accuracy: 0.2300\n",
            "\n",
            "Epoch 00010: saving model to model_init_2021-05-3119_23_04.381034/model-00010-0.44336-0.85294-2.36341-0.23000.h5\n",
            "Epoch 11/20\n",
            "34/34 [==============================] - 19s 584ms/step - loss: 0.3685 - categorical_accuracy: 0.8782 - val_loss: 2.1619 - val_categorical_accuracy: 0.3100\n",
            "\n",
            "Epoch 00011: saving model to model_init_2021-05-3119_23_04.381034/model-00011-0.37843-0.87941-2.16190-0.31000.h5\n",
            "Epoch 00011: early stopping\n"
          ],
          "name": "stdout"
        }
      ]
    },
    {
      "cell_type": "code",
      "metadata": {
        "colab": {
          "base_uri": "https://localhost:8080/",
          "height": 285
        },
        "id": "LCI02ndoUznq",
        "outputId": "c6676820-f2ce-4996-9672-cead5304cf27"
      },
      "source": [
        "data_plot(history)"
      ],
      "execution_count": null,
      "outputs": [
        {
          "output_type": "display_data",
          "data": {
            "image/png": "[encoded data removed]",
            "text/plain": [
              "<Figure size 1080x288 with 2 Axes>"
            ]
          },
          "metadata": {
            "tags": [],
            "needs_background": "light"
          }
        }
      ]
    },
    {
      "cell_type": "code",
      "metadata": {
        "id": "GK8OZ9q5-_6k"
      },
      "source": [
        "# CNN-LSTM Model\n",
        "image_height=120\n",
        "image_width=120\n",
        "cnn_lstm = Sequential()\n",
        "cnn_lstm.add(TimeDistributed(Conv2D(16, (3, 3) , padding='same', activation='relu'),\n",
        "                                  input_shape=(None,image_height,image_width,3)))\n",
        "cnn_lstm.add(TimeDistributed(MaxPooling2D((2, 2))))\n",
        "        \n",
        "cnn_lstm.add(TimeDistributed(Conv2D(32, (3, 3) , padding='same', activation='relu')))\n",
        "cnn_lstm.add(TimeDistributed(MaxPooling2D((2, 2))))\n",
        "        \n",
        "cnn_lstm.add(TimeDistributed(Conv2D(64, (3, 3) , padding='same', activation='relu')))\n",
        "cnn_lstm.add(TimeDistributed(MaxPooling2D((2, 2))))\n",
        "        \n",
        "cnn_lstm.add(TimeDistributed(Conv2D(128, (3, 3) , padding='same', activation='relu')))\n",
        "cnn_lstm.add(TimeDistributed(MaxPooling2D((2, 2))))\n",
        "\n",
        "cnn_lstm.add(TimeDistributed(Conv2D(256, (3, 3) , padding='same', activation='relu')))\n",
        "cnn_lstm.add(TimeDistributed(MaxPooling2D((2, 2))))\n",
        "\n",
        "\n",
        "cnn_lstm.add(TimeDistributed(Flatten()))\n",
        "cnn_lstm.add(LSTM(128))\n",
        "cnn_lstm.add(Dropout(0.25))\n",
        "        \n",
        "cnn_lstm.add(Dense(128,activation='relu'))\n",
        "cnn_lstm.add(Dropout(0.25))\n",
        "        \n",
        "cnn_lstm.add(Dense(5, activation='softmax'))"
      ],
      "execution_count": null,
      "outputs": []
    },
    {
      "cell_type": "code",
      "metadata": {
        "colab": {
          "base_uri": "https://localhost:8080/"
        },
        "id": "4bXUCMAT_F-t",
        "outputId": "d48897e4-d98c-4f72-bfe1-7793b6b6523f"
      },
      "source": [
        "\n",
        "optimiser = optimizers.Adam()\n",
        "cnn_lstm.compile(optimizer=optimiser, loss='categorical_crossentropy', metrics=['categorical_accuracy'])\n",
        "\n",
        "cnn_lstm.summary()"
      ],
      "execution_count": null,
      "outputs": [
        {
          "output_type": "stream",
          "text": [
            "Model: \"sequential_9\"\n",
            "_________________________________________________________________\n",
            "Layer (type)                 Output Shape              Param #   \n",
            "=================================================================\n",
            "time_distributed_98 (TimeDis (None, None, 120, 120, 16 448       \n",
            "_________________________________________________________________\n",
            "time_distributed_99 (TimeDis (None, None, 60, 60, 16)  0         \n",
            "_________________________________________________________________\n",
            "time_distributed_100 (TimeDi (None, None, 60, 60, 32)  4640      \n",
            "_________________________________________________________________\n",
            "time_distributed_101 (TimeDi (None, None, 30, 30, 32)  0         \n",
            "_________________________________________________________________\n",
            "time_distributed_102 (TimeDi (None, None, 30, 30, 64)  18496     \n",
            "_________________________________________________________________\n",
            "time_distributed_103 (TimeDi (None, None, 15, 15, 64)  0         \n",
            "_________________________________________________________________\n",
            "time_distributed_104 (TimeDi (None, None, 15, 15, 128) 73856     \n",
            "_________________________________________________________________\n",
            "time_distributed_105 (TimeDi (None, None, 7, 7, 128)   0         \n",
            "_________________________________________________________________\n",
            "time_distributed_106 (TimeDi (None, None, 7, 7, 256)   295168    \n",
            "_________________________________________________________________\n",
            "time_distributed_107 (TimeDi (None, None, 3, 3, 256)   0         \n",
            "_________________________________________________________________\n",
            "time_distributed_108 (TimeDi (None, None, 2304)        0         \n",
            "_________________________________________________________________\n",
            "lstm_9 (LSTM)                (None, 128)               1245696   \n",
            "_________________________________________________________________\n",
            "dropout_18 (Dropout)         (None, 128)               0         \n",
            "_________________________________________________________________\n",
            "dense_18 (Dense)             (None, 128)               16512     \n",
            "_________________________________________________________________\n",
            "dropout_19 (Dropout)         (None, 128)               0         \n",
            "_________________________________________________________________\n",
            "dense_19 (Dense)             (None, 5)                 645       \n",
            "=================================================================\n",
            "Total params: 1,655,461\n",
            "Trainable params: 1,655,461\n",
            "Non-trainable params: 0\n",
            "_________________________________________________________________\n"
          ],
          "name": "stdout"
        }
      ]
    },
    {
      "cell_type": "code",
      "metadata": {
        "colab": {
          "base_uri": "https://localhost:8080/"
        },
        "id": "8gE14hQO_NrB",
        "outputId": "6855a017-9fd1-407c-d4ea-3c65de3a4a17"
      },
      "source": [
        "print(\"Total Params:\", cnn_lstm.count_params())\n"
      ],
      "execution_count": null,
      "outputs": [
        {
          "output_type": "stream",
          "text": [
            "Total Params: 1655461\n"
          ],
          "name": "stdout"
        }
      ]
    },
    {
      "cell_type": "code",
      "metadata": {
        "colab": {
          "base_uri": "https://localhost:8080/"
        },
        "id": "sNCOF-1i_Tdg",
        "outputId": "e165ef05-7dc5-4a7b-988d-f060938b85f9"
      },
      "source": [
        "num_epochs=20\n",
        "batch_size=20\n",
        "\n",
        "history = module_training(cnn_lstm, train_path, train_doc, val_path, val_doc,num_epochs,batch_size )\n"
      ],
      "execution_count": null,
      "outputs": [
        {
          "output_type": "stream",
          "text": [
            "WARNING:tensorflow:`period` argument is deprecated. Please use `save_freq` to specify the frequency in number of batches seen.\n",
            "Source path =  /content/drive/MyDrive/cnn-dataset/project_data/Project_data/train ; batch size = 20\n"
          ],
          "name": "stdout"
        },
        {
          "output_type": "stream",
          "text": [
            "/usr/local/lib/python3.7/dist-packages/keras/engine/training.py:1915: UserWarning: `Model.fit_generator` is deprecated and will be removed in a future version. Please use `Model.fit`, which supports generators.\n",
            "  warnings.warn('`Model.fit_generator` is deprecated and '\n",
            "/usr/local/lib/python3.7/dist-packages/ipykernel_launcher.py:13: DeprecationWarning:     `imread` is deprecated!\n",
            "    `imread` is deprecated in SciPy 1.0.0, and will be removed in 1.2.0.\n",
            "    Use ``imageio.imread`` instead.\n",
            "  del sys.path[0]\n",
            "/usr/local/lib/python3.7/dist-packages/ipykernel_launcher.py:14: DeprecationWarning:     `imresize` is deprecated!\n",
            "    `imresize` is deprecated in SciPy 1.0.0, and will be removed in 1.2.0.\n",
            "    Use ``skimage.transform.resize`` instead.\n",
            "  \n"
          ],
          "name": "stderr"
        },
        {
          "output_type": "stream",
          "text": [
            "Epoch 1/20\n",
            "33/34 [============================>.] - ETA: 3s - loss: 1.6162 - categorical_accuracy: 0.2270"
          ],
          "name": "stdout"
        },
        {
          "output_type": "stream",
          "text": [
            "/usr/local/lib/python3.7/dist-packages/ipykernel_launcher.py:36: DeprecationWarning:     `imread` is deprecated!\n",
            "    `imread` is deprecated in SciPy 1.0.0, and will be removed in 1.2.0.\n",
            "    Use ``imageio.imread`` instead.\n",
            "/usr/local/lib/python3.7/dist-packages/ipykernel_launcher.py:44: DeprecationWarning:     `imresize` is deprecated!\n",
            "    `imresize` is deprecated in SciPy 1.0.0, and will be removed in 1.2.0.\n",
            "    Use ``skimage.transform.resize`` instead.\n"
          ],
          "name": "stderr"
        },
        {
          "output_type": "stream",
          "text": [
            "34/34 [==============================] - ETA: 0s - loss: 1.6161 - categorical_accuracy: 0.2265Source path =  /content/drive/MyDrive/cnn-dataset/project_data/Project_data/val ; batch size = 20\n",
            "34/34 [==============================] - 152s 4s/step - loss: 1.6161 - categorical_accuracy: 0.2261 - val_loss: 1.6047 - val_categorical_accuracy: 0.2300\n",
            "\n",
            "Epoch 00001: saving model to model_init_2021-06-0105_15_52.384608/model-00001-1.61462-0.21116-1.60473-0.23000.h5\n",
            "Epoch 2/20\n",
            "34/34 [==============================] - 124s 4s/step - loss: 1.5990 - categorical_accuracy: 0.1992 - val_loss: 1.6016 - val_categorical_accuracy: 0.3100\n",
            "\n",
            "Epoch 00002: saving model to model_init_2021-06-0105_15_52.384608/model-00002-1.59130-0.21207-1.60162-0.31000.h5\n",
            "Epoch 3/20\n",
            "34/34 [==============================] - 121s 4s/step - loss: 1.5873 - categorical_accuracy: 0.2512 - val_loss: 1.3176 - val_categorical_accuracy: 0.4600\n",
            "\n",
            "Epoch 00003: saving model to model_init_2021-06-0105_15_52.384608/model-00003-1.54595-0.28299-1.31761-0.46000.h5\n",
            "Epoch 4/20\n",
            "34/34 [==============================] - 120s 4s/step - loss: 1.4975 - categorical_accuracy: 0.3324 - val_loss: 1.2609 - val_categorical_accuracy: 0.5400\n",
            "\n",
            "Epoch 00004: saving model to model_init_2021-06-0105_15_52.384608/model-00004-1.44688-0.34340-1.26093-0.54000.h5\n",
            "Epoch 5/20\n",
            "34/34 [==============================] - 119s 4s/step - loss: 1.3324 - categorical_accuracy: 0.4411 - val_loss: 1.1834 - val_categorical_accuracy: 0.5100\n",
            "\n",
            "Epoch 00005: saving model to model_init_2021-06-0105_15_52.384608/model-00005-1.26603-0.46423-1.18342-0.51000.h5\n",
            "Epoch 6/20\n",
            "34/34 [==============================] - 120s 4s/step - loss: 1.2698 - categorical_accuracy: 0.4304 - val_loss: 1.2600 - val_categorical_accuracy: 0.4800\n",
            "\n",
            "Epoch 00006: saving model to model_init_2021-06-0105_15_52.384608/model-00006-1.23582-0.44992-1.26002-0.48000.h5\n",
            "Epoch 7/20\n",
            "34/34 [==============================] - 119s 4s/step - loss: 1.1710 - categorical_accuracy: 0.5026 - val_loss: 1.3326 - val_categorical_accuracy: 0.3900\n",
            "\n",
            "Epoch 00007: saving model to model_init_2021-06-0105_15_52.384608/model-00007-1.20825-0.48172-1.33256-0.39000.h5\n",
            "Epoch 8/20\n",
            "34/34 [==============================] - 118s 4s/step - loss: 1.1101 - categorical_accuracy: 0.5315 - val_loss: 1.1610 - val_categorical_accuracy: 0.5300\n",
            "\n",
            "Epoch 00008: saving model to model_init_2021-06-0105_15_52.384608/model-00008-1.10596-0.53736-1.16100-0.53000.h5\n",
            "Epoch 9/20\n",
            "34/34 [==============================] - 120s 4s/step - loss: 1.0120 - categorical_accuracy: 0.5550 - val_loss: 1.4404 - val_categorical_accuracy: 0.4200\n",
            "\n",
            "Epoch 00009: saving model to model_init_2021-06-0105_15_52.384608/model-00009-0.98958-0.57711-1.44035-0.42000.h5\n",
            "Epoch 10/20\n",
            "34/34 [==============================] - 123s 4s/step - loss: 1.0653 - categorical_accuracy: 0.5696 - val_loss: 1.2368 - val_categorical_accuracy: 0.5700\n",
            "\n",
            "Epoch 00010: saving model to model_init_2021-06-0105_15_52.384608/model-00010-1.04929-0.58983-1.23684-0.57000.h5\n",
            "Epoch 11/20\n",
            "34/34 [==============================] - 126s 4s/step - loss: 0.9735 - categorical_accuracy: 0.5997 - val_loss: 1.3052 - val_categorical_accuracy: 0.4900\n",
            "\n",
            "Epoch 00011: saving model to model_init_2021-06-0105_15_52.384608/model-00011-0.92278-0.62480-1.30515-0.49000.h5\n",
            "Epoch 12/20\n",
            "34/34 [==============================] - 123s 4s/step - loss: 0.9366 - categorical_accuracy: 0.6194 - val_loss: 1.2985 - val_categorical_accuracy: 0.5300\n",
            "\n",
            "Epoch 00012: saving model to model_init_2021-06-0105_15_52.384608/model-00012-0.91220-0.63911-1.29853-0.53000.h5\n",
            "\n",
            "Epoch 00012: ReduceLROnPlateau reducing learning rate to 0.00020000000949949026.\n",
            "Epoch 13/20\n",
            "34/34 [==============================] - 120s 4s/step - loss: 0.7687 - categorical_accuracy: 0.6996 - val_loss: 1.1593 - val_categorical_accuracy: 0.5400\n",
            "\n",
            "Epoch 00013: saving model to model_init_2021-06-0105_15_52.384608/model-00013-0.75540-0.71224-1.15930-0.54000.h5\n",
            "Epoch 14/20\n",
            "34/34 [==============================] - 122s 4s/step - loss: 0.6147 - categorical_accuracy: 0.7640 - val_loss: 1.0545 - val_categorical_accuracy: 0.5800\n",
            "\n",
            "Epoch 00014: saving model to model_init_2021-06-0105_15_52.384608/model-00014-0.57928-0.78060-1.05448-0.58000.h5\n",
            "Epoch 15/20\n",
            "34/34 [==============================] - 127s 4s/step - loss: 0.6151 - categorical_accuracy: 0.7473 - val_loss: 1.1831 - val_categorical_accuracy: 0.5500\n",
            "\n",
            "Epoch 00015: saving model to model_init_2021-06-0105_15_52.384608/model-00015-0.60547-0.74563-1.18310-0.55000.h5\n",
            "Epoch 16/20\n",
            "34/34 [==============================] - 123s 4s/step - loss: 0.5059 - categorical_accuracy: 0.8217 - val_loss: 1.1756 - val_categorical_accuracy: 0.5700\n",
            "\n",
            "Epoch 00016: saving model to model_init_2021-06-0105_15_52.384608/model-00016-0.48317-0.82512-1.17562-0.57000.h5\n",
            "Epoch 17/20\n",
            "34/34 [==============================] - 124s 4s/step - loss: 0.4904 - categorical_accuracy: 0.7996 - val_loss: 1.3133 - val_categorical_accuracy: 0.6000\n",
            "\n",
            "Epoch 00017: saving model to model_init_2021-06-0105_15_52.384608/model-00017-0.47703-0.81399-1.31331-0.60000.h5\n",
            "Epoch 18/20\n",
            "34/34 [==============================] - 125s 4s/step - loss: 0.4266 - categorical_accuracy: 0.8527 - val_loss: 1.2563 - val_categorical_accuracy: 0.6700\n",
            "\n",
            "Epoch 00018: saving model to model_init_2021-06-0105_15_52.384608/model-00018-0.42366-0.84579-1.25631-0.67000.h5\n",
            "\n",
            "Epoch 00018: ReduceLROnPlateau reducing learning rate to 4.0000001899898055e-05.\n",
            "Epoch 19/20\n",
            "34/34 [==============================] - 128s 4s/step - loss: 0.3806 - categorical_accuracy: 0.8553 - val_loss: 1.3982 - val_categorical_accuracy: 0.5100\n",
            "\n",
            "Epoch 00019: saving model to model_init_2021-06-0105_15_52.384608/model-00019-0.36120-0.87481-1.39823-0.51000.h5\n",
            "Epoch 20/20\n",
            "34/34 [==============================] - 128s 4s/step - loss: 0.3789 - categorical_accuracy: 0.8467 - val_loss: 1.0976 - val_categorical_accuracy: 0.6000\n",
            "\n",
            "Epoch 00020: saving model to model_init_2021-06-0105_15_52.384608/model-00020-0.36179-0.86533-1.09762-0.60000.h5\n"
          ],
          "name": "stdout"
        }
      ]
    },
    {
      "cell_type": "code",
      "metadata": {
        "colab": {
          "base_uri": "https://localhost:8080/",
          "height": 206
        },
        "id": "49yrB198_ZYu",
        "outputId": "e6ab3022-2d57-4ce1-9571-616f082458a0"
      },
      "source": [
        "data_plot(history_lstm)"
      ],
      "execution_count": null,
      "outputs": [
        {
          "output_type": "display_data",
          "data": {
            "image/png": "[encoded data removed]",
            "text/plain": [
              "<Figure size 1080x288 with 2 Axes>"
            ]
          },
          "metadata": {
            "tags": [],
            "needs_background": "light"
          }
        }
      ]
    },
    {
      "cell_type": "code",
      "metadata": {
        "id": "Wjp4DkgJDHKp"
      },
      "source": [
        "# CNN-GRU Model\n",
        "image_height=120\n",
        "image_width=120\n",
        "cnn_gru = Sequential()\n",
        "cnn_gru.add(TimeDistributed(Conv2D(16, (3, 3) , padding='same', activation='relu'),\n",
        "                                  input_shape=(None,image_height,image_width,3)))\n",
        "cnn_gru.add(TimeDistributed(MaxPooling2D((2, 2))))\n",
        "        \n",
        "cnn_gru.add(TimeDistributed(Conv2D(32, (3, 3) , padding='same', activation='relu')))\n",
        "cnn_gru.add(TimeDistributed(MaxPooling2D((2, 2))))\n",
        "        \n",
        "cnn_gru.add(TimeDistributed(Conv2D(64, (3, 3) , padding='same', activation='relu')))\n",
        "cnn_gru.add(TimeDistributed(MaxPooling2D((2, 2))))\n",
        "        \n",
        "cnn_gru.add(TimeDistributed(Conv2D(128, (3, 3) , padding='same', activation='relu')))\n",
        "cnn_gru.add(TimeDistributed(MaxPooling2D((2, 2))))\n",
        "\n",
        "\n",
        "cnn_gru.add(TimeDistributed(Flatten()))\n",
        "cnn_gru.add(GRU(128))\n",
        "cnn_gru.add(Dropout(0.25))\n",
        "        \n",
        "cnn_gru.add(Dense(128,activation='relu'))\n",
        "cnn_gru.add(Dropout(0.25))\n",
        "        \n",
        "cnn_gru.add(Dense(5, activation='softmax'))"
      ],
      "execution_count": 12,
      "outputs": []
    },
    {
      "cell_type": "code",
      "metadata": {
        "colab": {
          "base_uri": "https://localhost:8080/"
        },
        "id": "LEegj7s0DgnQ",
        "outputId": "59f993c6-68c6-45c2-d6e0-e940a45e31d0"
      },
      "source": [
        "\n",
        "optimiser = optimizers.Adam()\n",
        "cnn_gru.compile(optimizer=optimiser, loss='categorical_crossentropy', metrics=['categorical_accuracy'])\n",
        "\n",
        "cnn_gru.summary()"
      ],
      "execution_count": 13,
      "outputs": [
        {
          "output_type": "stream",
          "text": [
            "Model: \"sequential\"\n",
            "_________________________________________________________________\n",
            "Layer (type)                 Output Shape              Param #   \n",
            "=================================================================\n",
            "time_distributed (TimeDistri (None, None, 120, 120, 16 448       \n",
            "_________________________________________________________________\n",
            "time_distributed_1 (TimeDist (None, None, 60, 60, 16)  0         \n",
            "_________________________________________________________________\n",
            "time_distributed_2 (TimeDist (None, None, 60, 60, 32)  4640      \n",
            "_________________________________________________________________\n",
            "time_distributed_3 (TimeDist (None, None, 30, 30, 32)  0         \n",
            "_________________________________________________________________\n",
            "time_distributed_4 (TimeDist (None, None, 30, 30, 64)  18496     \n",
            "_________________________________________________________________\n",
            "time_distributed_5 (TimeDist (None, None, 15, 15, 64)  0         \n",
            "_________________________________________________________________\n",
            "time_distributed_6 (TimeDist (None, None, 15, 15, 128) 73856     \n",
            "_________________________________________________________________\n",
            "time_distributed_7 (TimeDist (None, None, 7, 7, 128)   0         \n",
            "_________________________________________________________________\n",
            "time_distributed_8 (TimeDist (None, None, 6272)        0         \n",
            "_________________________________________________________________\n",
            "gru (GRU)                    (None, 128)               2458368   \n",
            "_________________________________________________________________\n",
            "dropout (Dropout)            (None, 128)               0         \n",
            "_________________________________________________________________\n",
            "dense (Dense)                (None, 128)               16512     \n",
            "_________________________________________________________________\n",
            "dropout_1 (Dropout)          (None, 128)               0         \n",
            "_________________________________________________________________\n",
            "dense_1 (Dense)              (None, 5)                 645       \n",
            "=================================================================\n",
            "Total params: 2,572,965\n",
            "Trainable params: 2,572,965\n",
            "Non-trainable params: 0\n",
            "_________________________________________________________________\n"
          ],
          "name": "stdout"
        }
      ]
    },
    {
      "cell_type": "code",
      "metadata": {
        "colab": {
          "base_uri": "https://localhost:8080/"
        },
        "id": "HfKt9eprD8tz",
        "outputId": "c1868587-bb1e-4449-e41f-8eb9d089d70f"
      },
      "source": [
        "num_epochs=20\n",
        "batch_size=20\n",
        "\n",
        "history = module_training(cnn_gru, train_path, train_doc, val_path, val_doc,num_epochs,batch_size )"
      ],
      "execution_count": 14,
      "outputs": [
        {
          "output_type": "stream",
          "text": [
            "WARNING:tensorflow:`period` argument is deprecated. Please use `save_freq` to specify the frequency in number of batches seen.\n",
            "Source path =  /content/drive/MyDrive/cnn-dataset/project_data/Project_data/train ; batch size = 20\n"
          ],
          "name": "stdout"
        },
        {
          "output_type": "stream",
          "text": [
            "/usr/local/lib/python3.7/dist-packages/keras/engine/training.py:1915: UserWarning: `Model.fit_generator` is deprecated and will be removed in a future version. Please use `Model.fit`, which supports generators.\n",
            "  warnings.warn('`Model.fit_generator` is deprecated and '\n",
            "/usr/local/lib/python3.7/dist-packages/ipykernel_launcher.py:13: DeprecationWarning:     `imread` is deprecated!\n",
            "    `imread` is deprecated in SciPy 1.0.0, and will be removed in 1.2.0.\n",
            "    Use ``imageio.imread`` instead.\n",
            "  del sys.path[0]\n",
            "/usr/local/lib/python3.7/dist-packages/ipykernel_launcher.py:14: DeprecationWarning:     `imresize` is deprecated!\n",
            "    `imresize` is deprecated in SciPy 1.0.0, and will be removed in 1.2.0.\n",
            "    Use ``skimage.transform.resize`` instead.\n",
            "  \n"
          ],
          "name": "stderr"
        },
        {
          "output_type": "stream",
          "text": [
            "Epoch 1/20\n",
            "33/34 [============================>.] - ETA: 2:00 - loss: 1.6410 - categorical_accuracy: 0.2029"
          ],
          "name": "stdout"
        },
        {
          "output_type": "stream",
          "text": [
            "/usr/local/lib/python3.7/dist-packages/ipykernel_launcher.py:36: DeprecationWarning:     `imread` is deprecated!\n",
            "    `imread` is deprecated in SciPy 1.0.0, and will be removed in 1.2.0.\n",
            "    Use ``imageio.imread`` instead.\n",
            "/usr/local/lib/python3.7/dist-packages/ipykernel_launcher.py:44: DeprecationWarning:     `imresize` is deprecated!\n",
            "    `imresize` is deprecated in SciPy 1.0.0, and will be removed in 1.2.0.\n",
            "    Use ``skimage.transform.resize`` instead.\n"
          ],
          "name": "stderr"
        },
        {
          "output_type": "stream",
          "text": [
            "34/34 [==============================] - ETA: 0s - loss: 1.6404 - categorical_accuracy: 0.2037  Source path =  /content/drive/MyDrive/cnn-dataset/project_data/Project_data/val ; batch size = 20\n",
            "34/34 [==============================] - 4571s 137s/step - loss: 1.6398 - categorical_accuracy: 0.2044 - val_loss: 1.5749 - val_categorical_accuracy: 0.2400\n",
            "\n",
            "Epoch 00001: saving model to model_init_2021-06-0112_21_59.842966/model-00001-1.62030-0.22926-1.57488-0.24000.h5\n",
            "Epoch 2/20\n",
            "34/34 [==============================] - 95s 3s/step - loss: 1.5678 - categorical_accuracy: 0.3038 - val_loss: 1.3963 - val_categorical_accuracy: 0.5700\n",
            "\n",
            "Epoch 00002: saving model to model_init_2021-06-0112_21_59.842966/model-00002-1.51781-0.34056-1.39626-0.57000.h5\n",
            "Epoch 3/20\n",
            "34/34 [==============================] - 72s 2s/step - loss: 1.3474 - categorical_accuracy: 0.4172 - val_loss: 1.3157 - val_categorical_accuracy: 0.4700\n",
            "\n",
            "Epoch 00003: saving model to model_init_2021-06-0112_21_59.842966/model-00003-1.25827-0.47854-1.31570-0.47000.h5\n",
            "Epoch 4/20\n",
            "34/34 [==============================] - 65s 2s/step - loss: 1.1607 - categorical_accuracy: 0.5476 - val_loss: 1.1275 - val_categorical_accuracy: 0.5200\n",
            "\n",
            "Epoch 00004: saving model to model_init_2021-06-0112_21_59.842966/model-00004-1.11101-0.54849-1.12747-0.52000.h5\n",
            "Epoch 5/20\n",
            "34/34 [==============================] - 73s 2s/step - loss: 1.0074 - categorical_accuracy: 0.5959 - val_loss: 1.1010 - val_categorical_accuracy: 0.5300\n",
            "\n",
            "Epoch 00005: saving model to model_init_2021-06-0112_21_59.842966/model-00005-0.96791-0.61526-1.10098-0.53000.h5\n",
            "Epoch 6/20\n",
            "34/34 [==============================] - 63s 2s/step - loss: 0.9530 - categorical_accuracy: 0.6222 - val_loss: 1.0904 - val_categorical_accuracy: 0.6000\n",
            "\n",
            "Epoch 00006: saving model to model_init_2021-06-0112_21_59.842966/model-00006-0.87341-0.65819-1.09043-0.60000.h5\n",
            "Epoch 7/20\n",
            "34/34 [==============================] - 66s 2s/step - loss: 0.7555 - categorical_accuracy: 0.6757 - val_loss: 0.8642 - val_categorical_accuracy: 0.6900\n",
            "\n",
            "Epoch 00007: saving model to model_init_2021-06-0112_21_59.842966/model-00007-0.69195-0.70906-0.86418-0.69000.h5\n",
            "Epoch 8/20\n",
            "34/34 [==============================] - 65s 2s/step - loss: 0.5831 - categorical_accuracy: 0.7584 - val_loss: 0.9003 - val_categorical_accuracy: 0.6900\n",
            "\n",
            "Epoch 00008: saving model to model_init_2021-06-0112_21_59.842966/model-00008-0.53855-0.78378-0.90032-0.69000.h5\n",
            "Epoch 9/20\n",
            "34/34 [==============================] - 72s 2s/step - loss: 0.3812 - categorical_accuracy: 0.8652 - val_loss: 1.0935 - val_categorical_accuracy: 0.6500\n",
            "\n",
            "Epoch 00009: saving model to model_init_2021-06-0112_21_59.842966/model-00009-0.40973-0.85056-1.09354-0.65000.h5\n",
            "Epoch 10/20\n",
            "34/34 [==============================] - 64s 2s/step - loss: 0.3417 - categorical_accuracy: 0.8777 - val_loss: 0.9683 - val_categorical_accuracy: 0.7000\n",
            "\n",
            "Epoch 00010: saving model to model_init_2021-06-0112_21_59.842966/model-00010-0.28721-0.89507-0.96826-0.70000.h5\n",
            "Epoch 11/20\n",
            "34/34 [==============================] - 65s 2s/step - loss: 0.2222 - categorical_accuracy: 0.9373 - val_loss: 1.1762 - val_categorical_accuracy: 0.6800\n",
            "\n",
            "Epoch 00011: saving model to model_init_2021-06-0112_21_59.842966/model-00011-0.26995-0.92369-1.17625-0.68000.h5\n",
            "\n",
            "Epoch 00011: ReduceLROnPlateau reducing learning rate to 0.00020000000949949026.\n",
            "Epoch 12/20\n",
            "34/34 [==============================] - 65s 2s/step - loss: 0.3201 - categorical_accuracy: 0.8828 - val_loss: 1.0001 - val_categorical_accuracy: 0.7300\n",
            "\n",
            "Epoch 00012: saving model to model_init_2021-06-0112_21_59.842966/model-00012-0.22347-0.92210-1.00005-0.73000.h5\n",
            "Epoch 13/20\n",
            "34/34 [==============================] - 65s 2s/step - loss: 0.1055 - categorical_accuracy: 0.9792 - val_loss: 0.8913 - val_categorical_accuracy: 0.7600\n",
            "\n",
            "Epoch 00013: saving model to model_init_2021-06-0112_21_59.842966/model-00013-0.08934-0.98410-0.89130-0.76000.h5\n",
            "Epoch 14/20\n",
            "34/34 [==============================] - 64s 2s/step - loss: 0.0815 - categorical_accuracy: 0.9804 - val_loss: 1.2493 - val_categorical_accuracy: 0.6700\n",
            "\n",
            "Epoch 00014: saving model to model_init_2021-06-0112_21_59.842966/model-00014-0.07784-0.98251-1.24933-0.67000.h5\n",
            "Epoch 15/20\n",
            "34/34 [==============================] - 66s 2s/step - loss: 0.0587 - categorical_accuracy: 0.9852 - val_loss: 1.0207 - val_categorical_accuracy: 0.7600\n",
            "\n",
            "Epoch 00015: saving model to model_init_2021-06-0112_21_59.842966/model-00015-0.05396-0.98728-1.02066-0.76000.h5\n",
            "\n",
            "Epoch 00015: ReduceLROnPlateau reducing learning rate to 4.0000001899898055e-05.\n",
            "Epoch 16/20\n",
            "34/34 [==============================] - 66s 2s/step - loss: 0.0423 - categorical_accuracy: 0.9952 - val_loss: 1.1153 - val_categorical_accuracy: 0.7200\n",
            "\n",
            "Epoch 00016: saving model to model_init_2021-06-0112_21_59.842966/model-00016-0.04503-0.99205-1.11525-0.72000.h5\n",
            "Epoch 17/20\n",
            "34/34 [==============================] - 64s 2s/step - loss: 0.0363 - categorical_accuracy: 0.9977 - val_loss: 1.0373 - val_categorical_accuracy: 0.7100\n",
            "\n",
            "Epoch 00017: saving model to model_init_2021-06-0112_21_59.842966/model-00017-0.03766-0.99682-1.03729-0.71000.h5\n",
            "Epoch 18/20\n",
            "34/34 [==============================] - 67s 2s/step - loss: 0.0359 - categorical_accuracy: 0.9905 - val_loss: 1.2214 - val_categorical_accuracy: 0.7200\n",
            "\n",
            "Epoch 00018: saving model to model_init_2021-06-0112_21_59.842966/model-00018-0.03580-0.99523-1.22142-0.72000.h5\n",
            "Epoch 19/20\n",
            "34/34 [==============================] - 68s 2s/step - loss: 0.0342 - categorical_accuracy: 0.9966 - val_loss: 1.2972 - val_categorical_accuracy: 0.7000\n",
            "\n",
            "Epoch 00019: saving model to model_init_2021-06-0112_21_59.842966/model-00019-0.03309-0.99698-1.29723-0.70000.h5\n",
            "\n",
            "Epoch 00019: ReduceLROnPlateau reducing learning rate to 8.000000525498762e-06.\n",
            "Epoch 20/20\n",
            "34/34 [==============================] - 68s 2s/step - loss: 0.0293 - categorical_accuracy: 0.9998 - val_loss: 1.1215 - val_categorical_accuracy: 0.7400\n",
            "\n",
            "Epoch 00020: saving model to model_init_2021-06-0112_21_59.842966/model-00020-0.03099-0.99845-1.12153-0.74000.h5\n"
          ],
          "name": "stdout"
        }
      ]
    },
    {
      "cell_type": "code",
      "metadata": {
        "colab": {
          "base_uri": "https://localhost:8080/",
          "height": 206
        },
        "id": "m6e9xYEH5Okz",
        "outputId": "8849d579-1c82-40a2-a68e-6506dbbc5ff1"
      },
      "source": [
        "data_plot(history)"
      ],
      "execution_count": 16,
      "outputs": [
        {
          "output_type": "display_data",
          "data": {
            "image/png": "[encoded data removed]",
            "text/plain": [
              "<Figure size 1080x288 with 2 Axes>"
            ]
          },
          "metadata": {
            "tags": [],
            "needs_background": "light"
          }
        }
      ]
    },
    {
      "cell_type": "markdown",
      "metadata": {
        "id": "aLOd_0Dw5nP_"
      },
      "source": [
        "We have experimented multiple models out of which the CNN+GRU has been performed the best\n",
        "\n",
        "- (Training Accuracy : 95%, Validation Accuracy : 76%)\n",
        "\n",
        "- Number of Parameters : 2,572,965, we could increase the model val accuracy by adding more dense layers, however due the resources limitations we have to stopped with tless params\n",
        "\n",
        "\n",
        "The best weights of CNN-GRU: Epoch 00013: saving model to model_init_2021-06-0112_21_59.842966/model-00013-0.08934-0.98410-0.89130-0.76000.h5."
      ]
    }
  ]
}